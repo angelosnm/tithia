{
 "cells": [
  {
   "cell_type": "markdown",
   "id": "9aa1fde0",
   "metadata": {},
   "source": [
    "https://chatgpt.com/share/673b8458-f7e4-800a-8a78-6a36162618e6"
   ]
  },
  {
   "cell_type": "code",
   "execution_count": 1,
   "id": "776e2048-5e48-43e4-8f9f-16d6055bf444",
   "metadata": {
    "tags": []
   },
   "outputs": [],
   "source": [
    "from sedona.spark import *\n",
    "import rasterio\n",
    "import numpy as np\n",
    "from shapely.geometry import Point, Polygon"
   ]
  },
  {
   "cell_type": "code",
   "execution_count": null,
   "id": "5687d3a9-c676-43fc-8a88-70f510f6fd51",
   "metadata": {
    "scrolled": true,
    "tags": []
   },
   "outputs": [
    {
     "name": "stdout",
     "output_type": "stream",
     "text": [
      "Connected to Spark Master at: local[*]\n",
      "Application ID: local-1733609654532\n",
      "Spark connection successful.\n"
     ]
    }
   ],
   "source": [
    "# spark_master_url = \"spark://spark.tithia.scio.services:7077\"\n",
    "spark_master_url = \"local[*]\"\n",
    "\n",
    "config = (\n",
    "    SedonaContext.builder()\n",
    "    .master(spark_master_url) \\\n",
    "    .appName(\"RasterProcessingWithSedona\") \\\n",
    "    .config(\"spark.executor.memory\", \"16g\") \\\n",
    "    .config(\"spark.executor.cores\", \"4\") \\\n",
    "    .config(\"spark.driver.memory\", \"8g\") \\\n",
    "    .config(\"spark.hadoop.fs.s3a.endpoint\", \"x\") \\\n",
    "    .config(\"spark.hadoop.fs.s3a.access.key\", \"dsQ\") \\\n",
    "    .config(\"spark.hadoop.fs.s3a.secret.key\", \"cvxvi\") \\\n",
    "    .config(\"spark.hadoop.fs.s3a.connection.ssl.enabled\", \"false\") \\\n",
    "    .config(\"spark.hadoop.fs.s3a.path.style.access\", \"true\") \\\n",
    "    .config(\n",
    "        'spark.jars.packages',\n",
    "        'org.apache.sedona:sedona-spark-shaded-3.5_2.12:1.6.1,'\n",
    "        'org.datasyslab:geotools-wrapper:1.6.1-28.2'\n",
    "    )\n",
    "    .getOrCreate()\n",
    ")\n",
    "\n",
    "sedona = SedonaContext.create(config)\n",
    "\n",
    "sc = sedona.sparkContext\n",
    "\n",
    "# Check if the application is connected to the Spark master\n",
    "def check_spark_connection():\n",
    "    try:\n",
    "        # Access the master URL and application ID\n",
    "        master_url = sc.master\n",
    "        app_id = sc.applicationId\n",
    "        \n",
    "        print(f\"Connected to Spark Master at: {master_url}\")\n",
    "        print(f\"Application ID: {app_id}\")\n",
    "        return True\n",
    "    except Exception as e:\n",
    "        print(\"Failed to connect to the Spark cluster.\")\n",
    "        print(f\"Error: {e}\")\n",
    "        return False\n",
    "    \n",
    "# Run the connection check\n",
    "if check_spark_connection():\n",
    "    print(\"Spark connection successful.\")\n",
    "else:\n",
    "    print(\"Failed to connect to Spark. Exiting...\")\n",
    "    spark.stop()  # Stop the Spark session if connection fails\n",
    "    exit(1)"
   ]
  },
  {
   "cell_type": "code",
   "execution_count": 3,
   "id": "c008d932-4e68-4e4c-b176-01184f17e346",
   "metadata": {
    "tags": []
   },
   "outputs": [
    {
     "name": "stdout",
     "output_type": "stream",
     "text": [
      "+--------------------+-------------------+-------+--------------------+\n",
      "|                path|   modificationTime| length|             content|\n",
      "+--------------------+-------------------+-------+--------------------+\n",
      "|s3a://data/BFA_hi...|2024-12-07 08:35:02|3258373|[49 49 2A 00 08 0...|\n",
      "+--------------------+-------------------+-------+--------------------+\n",
      "\n"
     ]
    }
   ],
   "source": [
    "geotiff_df = sedona.read.format(\"binaryFile\").load(\"s3a://data/BFA_hist_land_cover_subindicator_2001_2010.tif\")\n",
    "geotiff_df.show(2)\n",
    "geotiff_df.createOrReplaceTempView(\"binary_raster\")"
   ]
  }
 ],
 "metadata": {
  "kernelspec": {
   "display_name": "Python 3 (ipykernel)",
   "language": "python",
   "name": "python3"
  },
  "language_info": {
   "codemirror_mode": {
    "name": "ipython",
    "version": 3
   },
   "file_extension": ".py",
   "mimetype": "text/x-python",
   "name": "python",
   "nbconvert_exporter": "python",
   "pygments_lexer": "ipython3",
   "version": "3.11.10"
  }
 },
 "nbformat": 4,
 "nbformat_minor": 5
}
