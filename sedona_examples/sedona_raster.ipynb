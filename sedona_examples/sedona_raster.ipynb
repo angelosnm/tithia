{
 "cells": [
  {
   "cell_type": "markdown",
   "id": "9aa1fde0",
   "metadata": {},
   "source": [
    "https://chatgpt.com/share/673b8458-f7e4-800a-8a78-6a36162618e6"
   ]
  },
  {
   "cell_type": "code",
   "execution_count": 1,
   "id": "776e2048-5e48-43e4-8f9f-16d6055bf444",
   "metadata": {
    "tags": []
   },
   "outputs": [],
   "source": [
    "from sedona.spark import *\n",
    "import rasterio\n",
    "import numpy as np\n",
    "from shapely.geometry import Point, Polygon"
   ]
  },
  {
   "cell_type": "code",
   "execution_count": 2,
   "id": "5687d3a9-c676-43fc-8a88-70f510f6fd51",
   "metadata": {
    "scrolled": true,
    "tags": []
   },
   "outputs": [
    {
     "name": "stdout",
     "output_type": "stream",
     "text": [
      "Connected to Spark Master at: local[*]\n",
      "Application ID: local-1732470437880\n",
      "Spark connection successful.\n"
     ]
    }
   ],
   "source": [
    "# spark_master_url = \"spark://192.168.18.110:7077\"\n",
    "spark_master_url = \"local[*]\"\n",
    "\n",
    "config = (\n",
    "    SedonaContext.builder()\n",
    "    .master(spark_master_url) \\\n",
    "    .appName(\"RasterProcessingWithSedona\") \\\n",
    "    .config(\"spark.executor.memory\", \"16g\") \\\n",
    "    .config(\"spark.executor.cores\", \"4\") \\\n",
    "    .config(\"spark.driver.memory\", \"8g\") \\\n",
    "    .config(\"spark.hadoop.fs.s3a.access.key\", \"GD5Lg2x7tLaGxShjozFw\") \\\n",
    "    .config(\"spark.hadoop.fs.s3a.secret.key\", \"H7J3mn7pI6oK35Xpuyrv6Lk4AsgymaSiQ2zwdAlu\") \\\n",
    "    .config(\"spark.hadoop.fs.s3a.endpoint\", \"http://192.168.18.115:9000\") \\\n",
    "    .config(\n",
    "        'spark.jars.packages',\n",
    "        'org.apache.sedona:sedona-spark-3.5_2.12:1.6.1,'\n",
    "        'org.datasyslab:geotools-wrapper:1.6.1-28.2'\n",
    "    )\n",
    "    .getOrCreate()\n",
    ")\n",
    "\n",
    "sedona = SedonaContext.create(config)\n",
    "\n",
    "sc = sedona.sparkContext\n",
    "\n",
    "# Check if the application is connected to the Spark master\n",
    "def check_spark_connection():\n",
    "    try:\n",
    "        # Access the master URL and application ID\n",
    "        master_url = sc.master\n",
    "        app_id = sc.applicationId\n",
    "        \n",
    "        print(f\"Connected to Spark Master at: {master_url}\")\n",
    "        print(f\"Application ID: {app_id}\")\n",
    "        return True\n",
    "    except Exception as e:\n",
    "        print(\"Failed to connect to the Spark cluster.\")\n",
    "        print(f\"Error: {e}\")\n",
    "        return False\n",
    "    \n",
    "# Run the connection check\n",
    "if check_spark_connection():\n",
    "    print(\"Spark connection successful.\")\n",
    "else:\n",
    "    print(\"Failed to connect to Spark. Exiting...\")\n",
    "    spark.stop()  # Stop the Spark session if connection fails\n",
    "    exit(1)"
   ]
  },
  {
   "cell_type": "code",
   "execution_count": 3,
   "id": "b9a6469e-e0fb-46bd-b284-eea46506e524",
   "metadata": {
    "tags": []
   },
   "outputs": [],
   "source": [
    "# Step 1: Load Raster Data Using Rasterio\n",
    "def raster_to_point_geometries(raster_path):\n",
    "    with rasterio.open(raster_path) as src:\n",
    "        # Read raster data\n",
    "        band1 = src.read(1)\n",
    "        affine = src.transform\n",
    "\n",
    "        # Convert raster to points\n",
    "        points = []\n",
    "        rows, cols = band1.shape\n",
    "        for row in range(rows):\n",
    "            for col in range(cols):\n",
    "                value = band1[row, col]\n",
    "                if not np.isnan(value):  # Skip no-data values\n",
    "                    x, y = rasterio.transform.xy(affine, row, col)\n",
    "                    points.append((Point(x, y), value))\n",
    "        return points"
   ]
  },
  {
   "cell_type": "code",
   "execution_count": null,
   "id": "c008d932-4e68-4e4c-b176-01184f17e346",
   "metadata": {
    "tags": []
   },
   "outputs": [],
   "source": [
    "# Convert raster to points\n",
    "raster_path = \"BFA_hist_land_cover_subindicator_2001_2010.tif\"\n",
    "points_with_values = raster_to_point_geometries(raster_path)"
   ]
  },
  {
   "cell_type": "code",
   "execution_count": null,
   "id": "ee695895-5ebe-445c-8e34-1710d58e2255",
   "metadata": {
    "tags": []
   },
   "outputs": [],
   "source": [
    "# Step 2: Convert to Spark DataFrame\n",
    "schema = [\"geometry\", \"value\"]\n",
    "rdd = spark.sparkContext.parallelize(points_with_values)\n",
    "points_df = spark.createDataFrame(rdd, schema=schema)"
   ]
  },
  {
   "cell_type": "code",
   "execution_count": null,
   "id": "e7fb305b-4dd8-4cd2-8a84-2fa3ae059152",
   "metadata": {
    "tags": []
   },
   "outputs": [],
   "source": [
    "# Register as Spatial Table\n",
    "points_df = points_df.withColumn(\"geometry\", col(\"geometry\").cast(GeometryType()))\n",
    "points_df.createOrReplaceTempView(\"raster_points\")"
   ]
  },
  {
   "cell_type": "code",
   "execution_count": null,
   "id": "3b3facf0-f6e9-4f9b-9073-b1727aed1bc7",
   "metadata": {
    "tags": []
   },
   "outputs": [],
   "source": [
    "# Step 3: Perform Spatial Operations with Sedona\n",
    "# Example: Query points within a bounding box\n",
    "bounding_box_wkt = \"POLYGON((-180 -90, -180 90, 180 90, 180 -90, -180 -90))\"\n",
    "result = spark.sql(f\"\"\"\n",
    "    SELECT *\n",
    "    FROM raster_points\n",
    "    WHERE ST_Contains(ST_GeomFromText('{bounding_box_wkt}'), geometry)\n",
    "\"\"\")"
   ]
  },
  {
   "cell_type": "code",
   "execution_count": null,
   "id": "5c15f19a-4caa-4c4f-a94d-fa6f8b1ffc9a",
   "metadata": {
    "tags": []
   },
   "outputs": [],
   "source": [
    "# Show the results\n",
    "result.show()"
   ]
  },
  {
   "cell_type": "code",
   "execution_count": null,
   "id": "8a9ef079-f09c-41c1-b9b5-9d63f3ec9e75",
   "metadata": {
    "tags": []
   },
   "outputs": [],
   "source": [
    "# Step 4: Save Results\n",
    "result.write.csv(\"output/filtered_raster_points.csv\")"
   ]
  },
  {
   "cell_type": "code",
   "execution_count": null,
   "id": "0b6b1d68-1f2f-4324-8583-b5e3a66dd262",
   "metadata": {},
   "outputs": [],
   "source": []
  }
 ],
 "metadata": {
  "kernelspec": {
   "display_name": "Python 3 (ipykernel)",
   "language": "python",
   "name": "python3"
  },
  "language_info": {
   "codemirror_mode": {
    "name": "ipython",
    "version": 3
   },
   "file_extension": ".py",
   "mimetype": "text/x-python",
   "name": "python",
   "nbconvert_exporter": "python",
   "pygments_lexer": "ipython3",
   "version": "3.11.10"
  }
 },
 "nbformat": 4,
 "nbformat_minor": 5
}
